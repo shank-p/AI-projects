{
  "nbformat": 4,
  "nbformat_minor": 0,
  "metadata": {
    "colab": {
      "provenance": [],
      "collapsed_sections": []
    },
    "kernelspec": {
      "name": "python3",
      "display_name": "Python 3"
    },
    "language_info": {
      "name": "python"
    }
  },
  "cells": [
    {
      "cell_type": "markdown",
      "source": [
        "# **Classification of Hand-Written Digits**\n",
        "  The objective of the project is to build and train a model using Tensor-flow API to detect, and classify handwritten digits\n",
        "\n",
        "###### - Shashank P"
      ],
      "metadata": {
        "id": "skL60091N4j1"
      }
    },
    {
      "cell_type": "code",
      "source": [
        "# importing required modules\n",
        "\n",
        "import tensorflow as tf\n",
        "import matplotlib.pyplot as plt\n",
        "\n",
        "from tensorflow.keras.models import Sequential\n",
        "from tensorflow.keras.layers import Dense, Conv2D, Dropout, Flatten, MaxPooling2D"
      ],
      "metadata": {
        "id": "-ctA3qpzNqn3"
      },
      "execution_count": null,
      "outputs": []
    },
    {
      "cell_type": "code",
      "source": [
        "# Using minst data-set\n",
        "# loading data to testing and training components\n",
        "\n",
        "(x_train, y_train), (x_test, y_test) = tf.keras.datasets.mnist.load_data()\n",
        "\n",
        "# shape overview of data:\n",
        "print(x_train.shape)\n",
        "print(x_test.shape)"
      ],
      "metadata": {
        "colab": {
          "base_uri": "https://localhost:8080/"
        },
        "id": "z-i8Lo4AOeJG",
        "outputId": "db2cf248-4c8d-4723-9242-83da3572d078"
      },
      "execution_count": null,
      "outputs": [
        {
          "output_type": "stream",
          "name": "stdout",
          "text": [
            "Downloading data from https://storage.googleapis.com/tensorflow/tf-keras-datasets/mnist.npz\n",
            "11493376/11490434 [==============================] - 0s 0us/step\n",
            "11501568/11490434 [==============================] - 0s 0us/step\n",
            "(60000, 28, 28)\n",
            "(10000, 28, 28)\n"
          ]
        }
      ]
    },
    {
      "cell_type": "code",
      "source": [
        "# overview of data using matplotlib\n",
        "\n",
        "%matplotlib inline\n",
        "fig, axs = plt.subplots(4,4, figsize=(10, 10)) \n",
        "\n",
        "for i, ax in enumerate(axs.flat):\n",
        "  ax.matshow(x_train[i])\n",
        "  ax.axis('off')\n",
        "  ax.set_title('Number {}'.format(y_train[i]))\n",
        "fig.show()\n"
      ],
      "metadata": {
        "colab": {
          "base_uri": "https://localhost:8080/",
          "height": 596
        },
        "id": "dALqEXEcO9Nw",
        "outputId": "5b3afff9-54b5-4545-d6ca-c969aba0551d"
      },
      "execution_count": null,
      "outputs": [
        {
          "output_type": "display_data",
          "data": {
            "text/plain": [
              "<Figure size 720x720 with 16 Axes>"
            ],
            "image/png": "[encoded data removed]"
          },
          "metadata": {
            "needs_background": "light"
          }
        }
      ]
    },
    {
      "cell_type": "markdown",
      "source": [
        "## **PreProcessing the Data**\n",
        "  Here, we are scaling, preprocessing the data that is going to used so as to reduce anomalies during training the model"
      ],
      "metadata": {
        "id": "yRwcQUcFSWTB"
      }
    },
    {
      "cell_type": "code",
      "source": [
        "# reshape the image data-sets of training and testing (x_train, x_test)\n",
        "\n",
        "x_train = x_train.reshape(x_train.shape[0], 28, 28, 1)\n",
        "x_test = x_test.reshape(x_test.shape[0], 28, 28, 1)\n",
        "input_shape = (28, 28, 1) # 1 - indicating 1 scale of color (greyscale)"
      ],
      "metadata": {
        "id": "0RvqQjEWSp6a"
      },
      "execution_count": null,
      "outputs": []
    },
    {
      "cell_type": "code",
      "source": [
        "# converting the int-type to float-type\n",
        "\n",
        "x_train = x_train.astype('float32')\n",
        "x_test = x_test.astype('float32')\n",
        "\n",
        "# scale values of data to a range of (0, 1)\n",
        "x_train /= 255\n",
        "x_test /= 255"
      ],
      "metadata": {
        "id": "vl2JqjlDTgm8"
      },
      "execution_count": null,
      "outputs": []
    },
    {
      "cell_type": "markdown",
      "source": [
        "## **Building the Model**\n",
        "  Building the models using different layers availabe through tensorflow "
      ],
      "metadata": {
        "id": "1mXwsPkaUlQW"
      }
    },
    {
      "cell_type": "code",
      "source": [
        "# model\n",
        "\n",
        "model = Sequential()\n",
        "model.add(Conv2D(28, kernel_size=(3, 3), input_shape=input_shape))\n",
        "model.add(MaxPooling2D(pool_size=(2, 2)))\n",
        "model.add(Flatten())\n",
        "model.add(Dense(128, activation=tf.nn.relu))\n",
        "model.add(Dropout(0.2))\n",
        "model.add(Dense(10, activation=tf.nn.softmax))"
      ],
      "metadata": {
        "id": "XSv6jeK4U3TZ"
      },
      "execution_count": null,
      "outputs": []
    },
    {
      "cell_type": "code",
      "source": [
        "# compiling and fitting the data into the model\n",
        "\n",
        "model.compile(optimizer='adam', \n",
        "              loss= 'sparse_categorical_crossentropy', \n",
        "              metrics=['accuracy'])\n",
        "model.fit(x=x_train, y=y_train, epochs= 3 )"
      ],
      "metadata": {
        "colab": {
          "base_uri": "https://localhost:8080/"
        },
        "id": "R_BpHXvwXdNl",
        "outputId": "fe5a1283-348f-4654-81d2-10113d2808af"
      },
      "execution_count": null,
      "outputs": [
        {
          "output_type": "stream",
          "name": "stdout",
          "text": [
            "Epoch 1/3\n",
            "1875/1875 [==============================] - 37s 19ms/step - loss: 0.2062 - accuracy: 0.9376\n",
            "Epoch 2/3\n",
            "1875/1875 [==============================] - 35s 19ms/step - loss: 0.0860 - accuracy: 0.9737\n",
            "Epoch 3/3\n",
            "1875/1875 [==============================] - 35s 19ms/step - loss: 0.0592 - accuracy: 0.9816\n"
          ]
        },
        {
          "output_type": "execute_result",
          "data": {
            "text/plain": [
              "<keras.callbacks.History at 0x7f2d5f741650>"
            ]
          },
          "metadata": {},
          "execution_count": 7
        }
      ]
    },
    {
      "cell_type": "markdown",
      "source": [
        "## **Evaluating the model**\n",
        "  We are going to evaluate the performance of the model, by passing the tesing data and record the accuracy of the model"
      ],
      "metadata": {
        "id": "dqMGaacdY71X"
      }
    },
    {
      "cell_type": "code",
      "source": [
        "model.evaluate(x_test, y_test)"
      ],
      "metadata": {
        "colab": {
          "base_uri": "https://localhost:8080/"
        },
        "id": "lbeFGo4CZNDr",
        "outputId": "08c2c907-4187-4ce2-a3c6-7a224f1fa68e"
      },
      "execution_count": null,
      "outputs": [
        {
          "output_type": "stream",
          "name": "stdout",
          "text": [
            "313/313 [==============================] - 3s 8ms/step - loss: 0.0568 - accuracy: 0.9827\n"
          ]
        },
        {
          "output_type": "execute_result",
          "data": {
            "text/plain": [
              "[0.05680077522993088, 0.982699990272522]"
            ]
          },
          "metadata": {},
          "execution_count": 8
        }
      ]
    }
  ]
}